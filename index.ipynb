{
 "cells": [
  {
   "cell_type": "markdown",
   "metadata": {},
   "source": [
    "# Image Classification with Deep Learning"
   ]
  },
  {
   "cell_type": "markdown",
   "metadata": {},
   "source": [
    "## Importing Libraries"
   ]
  },
  {
   "cell_type": "code",
   "execution_count": 1,
   "metadata": {},
   "outputs": [],
   "source": [
    "import pandas as pd\n",
    "import numpy as np\n",
    "from PIL import Image\n",
    "import matplotlib.pyplot as plt\n",
    "from keras.preprocessing.image import ImageDataGenerator\n",
    "\n",
    "from keras.models import Sequential\n",
    "from keras.layers import Dense, Conv2D, Flatten, BatchNormalization, MaxPool2D\n",
    "from keras.callbacks import EarlyStopping, ModelCheckpoint\n",
    "\n",
    "from sklearn.preprocessing import StandardScaler\n",
    "from sklearn.decomposition import PCA\n",
    "\n",
    "import warnings\n",
    "warnings.filterwarnings('ignore')\n",
    "\n",
    "np.random.seed(123)\n",
    "%matplotlib inline"
   ]
  },
  {
   "cell_type": "markdown",
   "metadata": {},
   "source": [
    "## Reading the data"
   ]
  },
  {
   "cell_type": "code",
   "execution_count": 2,
   "metadata": {},
   "outputs": [
    {
     "name": "stdout",
     "output_type": "stream",
     "text": [
      "Found 5216 images belonging to 2 classes.\n",
      "Found 624 images belonging to 2 classes.\n",
      "Found 16 images belonging to 2 classes.\n"
     ]
    }
   ],
   "source": [
    "# Create data generators with rescaling \n",
    "train_generator = ImageDataGenerator(rescale=1./255).flow_from_directory('chest_xray/train/', target_size=(64, 64), batch_size=5216)\n",
    "test_generator = ImageDataGenerator(rescale=1./255).flow_from_directory('chest_xray/test/', target_size=(64, 64), batch_size=624)\n",
    "val_generator = ImageDataGenerator(rescale=1./255).flow_from_directory('chest_xray/val/', target_size=(64, 64))"
   ]
  },
  {
   "cell_type": "code",
   "execution_count": 3,
   "metadata": {},
   "outputs": [],
   "source": [
    "# Retrieve a batch of training images and their corresponding labels\n",
    "train_images, train_labels = next(train_generator)\n",
    "\n",
    "# Retrieve a batch of test images and their corresponding labels\n",
    "test_images, test_labels = next(test_generator)\n",
    "\n",
    "# Retrieve a batch of validation images and their corresponding labels\n",
    "val_images, val_labels = next(val_generator)"
   ]
  },
  {
   "cell_type": "code",
   "execution_count": 4,
   "metadata": {},
   "outputs": [
    {
     "data": {
      "text/plain": [
       "((5216, 64, 64, 3), (5216, 2))"
      ]
     },
     "execution_count": 4,
     "metadata": {},
     "output_type": "execute_result"
    }
   ],
   "source": [
    "# Checking the shape of the train_images and train_labels\n",
    "train_images.shape, train_labels.shape"
   ]
  },
  {
   "cell_type": "code",
   "execution_count": 5,
   "metadata": {},
   "outputs": [
    {
     "data": {
      "text/plain": [
       "((624, 64, 64, 3), (624, 2))"
      ]
     },
     "execution_count": 5,
     "metadata": {},
     "output_type": "execute_result"
    }
   ],
   "source": [
    "# Checking the shape of the test_images and test_labels\n",
    "test_images.shape, test_labels.shape"
   ]
  },
  {
   "cell_type": "code",
   "execution_count": 6,
   "metadata": {},
   "outputs": [
    {
     "data": {
      "text/plain": [
       "((16, 64, 64, 3), (16, 2))"
      ]
     },
     "execution_count": 6,
     "metadata": {},
     "output_type": "execute_result"
    }
   ],
   "source": [
    "# Checking the shape of the val_images and val_labels\n",
    "val_images.shape, val_labels.shape"
   ]
  },
  {
   "cell_type": "markdown",
   "metadata": {},
   "source": [
    "The label's shape indicates that this is a binary classification problem. The labels suggest that the images can only represent two classes: \"normal\" or \"pneumonia,\" which implies that the goal is to determine whether a patient has pneumonia or not."
   ]
  },
  {
   "cell_type": "markdown",
   "metadata": {},
   "source": [
    "## Modeling the Data"
   ]
  },
  {
   "cell_type": "markdown",
   "metadata": {},
   "source": [
    "### Using Dense layers"
   ]
  },
  {
   "cell_type": "code",
   "execution_count": 7,
   "metadata": {},
   "outputs": [],
   "source": [
    "# Flattening the train set to all for modeling\n",
    "train_reshaped = train_images.reshape(5216, 64*64*3)\n",
    "\n",
    "# Flattening the test set to all for modeling\n",
    "test_reshape = test_images.reshape(624, 64*64*3)\n",
    "\n",
    "# Flattening the validation set to all for modeling\n",
    "val_reshape = val_images.reshape(16, 64*64*3)"
   ]
  },
  {
   "cell_type": "code",
   "execution_count": 8,
   "metadata": {},
   "outputs": [
    {
     "name": "stdout",
     "output_type": "stream",
     "text": [
      "Model: \"sequential\"\n",
      "_________________________________________________________________\n",
      " Layer (type)                Output Shape              Param #   \n",
      "=================================================================\n",
      " dense (Dense)               (None, 64)                786496    \n",
      "                                                                 \n",
      " dense_1 (Dense)             (None, 64)                4160      \n",
      "                                                                 \n",
      " dense_2 (Dense)             (None, 32)                2080      \n",
      "                                                                 \n",
      " dense_3 (Dense)             (None, 2)                 66        \n",
      "                                                                 \n",
      "=================================================================\n",
      "Total params: 792802 (3.02 MB)\n",
      "Trainable params: 792802 (3.02 MB)\n",
      "Non-trainable params: 0 (0.00 Byte)\n",
      "_________________________________________________________________\n"
     ]
    }
   ],
   "source": [
    "# initialized the model\n",
    "dense_model = Sequential()\n",
    "\n",
    "# Input Layer\n",
    "dense_model.add(Dense(64, activation='relu', input_shape=(64*64*3,)))\n",
    "# Hidden Layer\n",
    "dense_model.add(Dense(64, activation=\"relu\"))\n",
    "dense_model.add(Dense(32, activation=\"LeakyReLU\"))\n",
    "# Output Layer\n",
    "dense_model.add(Dense(2, activation=\"softmax\"))\n",
    "\n",
    "dense_model.summary()"
   ]
  },
  {
   "cell_type": "code",
   "execution_count": 9,
   "metadata": {},
   "outputs": [],
   "source": [
    "# Compile the dense neural network model\n",
    "dense_model.compile(\n",
    "    optimizer=\"adam\",\n",
    "    loss= \"binary_crossentropy\",\n",
    "    metrics=['accuracy']\n",
    ")"
   ]
  },
  {
   "cell_type": "code",
   "execution_count": 10,
   "metadata": {},
   "outputs": [],
   "source": [
    "# Creating a EarlyStopping callback to prevent overfitting\n",
    "early_stopping = EarlyStopping(monitor='val_loss', patience=4, mode='min')\n",
    "\n",
    "# Defining the path for saving checkpoints\n",
    "checkpoint_filepath = 'dense_model.h5'\n",
    "\n",
    "# Create a ModelCheckpoint callback to save the best model weights\n",
    "model_checkpoint = ModelCheckpoint(\n",
    "    checkpoint_filepath,\n",
    "    monitor='val_loss',  \n",
    "    save_best_only=True, \n",
    "    mode='min',  \n",
    "    verbose=1  \n",
    ")"
   ]
  },
  {
   "cell_type": "code",
   "execution_count": 11,
   "metadata": {},
   "outputs": [
    {
     "name": "stdout",
     "output_type": "stream",
     "text": [
      "Epoch 1/1000\n",
      "162/163 [============================>.] - ETA: 0s - loss: 0.2938 - accuracy: 0.8827\n",
      "Epoch 1: val_loss improved from inf to 0.40187, saving model to dense_model.h5\n",
      "163/163 [==============================] - 5s 22ms/step - loss: 0.2923 - accuracy: 0.8834 - val_loss: 0.4019 - val_accuracy: 0.8750\n",
      "Epoch 2/1000\n",
      "161/163 [============================>.] - ETA: 0s - loss: 0.1763 - accuracy: 0.9309\n",
      "Epoch 2: val_loss did not improve from 0.40187\n",
      "163/163 [==============================] - 4s 25ms/step - loss: 0.1763 - accuracy: 0.9308 - val_loss: 0.4937 - val_accuracy: 0.8125\n",
      "Epoch 3/1000\n",
      "163/163 [==============================] - ETA: 0s - loss: 0.1574 - accuracy: 0.9385\n",
      "Epoch 3: val_loss improved from 0.40187 to 0.21882, saving model to dense_model.h5\n",
      "163/163 [==============================] - 4s 27ms/step - loss: 0.1574 - accuracy: 0.9385 - val_loss: 0.2188 - val_accuracy: 0.9375\n",
      "Epoch 4/1000\n",
      "161/163 [============================>.] - ETA: 0s - loss: 0.1380 - accuracy: 0.9482\n",
      "Epoch 4: val_loss did not improve from 0.21882\n",
      "163/163 [==============================] - 4s 28ms/step - loss: 0.1375 - accuracy: 0.9482 - val_loss: 0.3145 - val_accuracy: 0.9375\n",
      "Epoch 5/1000\n",
      "161/163 [============================>.] - ETA: 0s - loss: 0.1463 - accuracy: 0.9437\n",
      "Epoch 5: val_loss did not improve from 0.21882\n",
      "163/163 [==============================] - 5s 28ms/step - loss: 0.1462 - accuracy: 0.9440 - val_loss: 0.2614 - val_accuracy: 0.9375\n",
      "Epoch 6/1000\n",
      "163/163 [==============================] - ETA: 0s - loss: 0.1336 - accuracy: 0.9498\n",
      "Epoch 6: val_loss did not improve from 0.21882\n",
      "163/163 [==============================] - 5s 29ms/step - loss: 0.1336 - accuracy: 0.9498 - val_loss: 0.3574 - val_accuracy: 0.8750\n",
      "Epoch 7/1000\n",
      "162/163 [============================>.] - ETA: 0s - loss: 0.1306 - accuracy: 0.9524\n",
      "Epoch 7: val_loss did not improve from 0.21882\n",
      "163/163 [==============================] - 5s 30ms/step - loss: 0.1308 - accuracy: 0.9521 - val_loss: 0.3685 - val_accuracy: 0.8750\n"
     ]
    }
   ],
   "source": [
    "history = dense_model.fit(\n",
    "    train_reshaped,\n",
    "    train_labels,\n",
    "    epochs=1000,\n",
    "    callbacks=[early_stopping, model_checkpoint],\n",
    "    validation_data=(val_reshape, val_labels),\n",
    "    batch_size=32\n",
    ")"
   ]
  },
  {
   "cell_type": "code",
   "execution_count": 12,
   "metadata": {},
   "outputs": [],
   "source": [
    "def plot_loss(model):\n",
    "    # Extract training and validation loss values from the model's history\n",
    "    training_loss = model.history['loss']\n",
    "    validation_loss = model.history['val_loss']\n",
    "\n",
    "    # Plot the training loss and validation loss\n",
    "    fig, ax = plt.subplots(figsize=(10, 6))\n",
    "    ax.plot(training_loss, label='Training Loss')\n",
    "    ax.plot(validation_loss, label='Validation Loss')\n",
    "\n",
    "    # Adding titles and labels to the plot\n",
    "    ax.set_title('Training and Validation Loss Curves') \n",
    "    ax.set_xlabel('Epoch')\n",
    "    ax.set_ylabel('Loss')\n",
    "\n",
    "    # Add a grid to the plot for better visualization\n",
    "    ax.grid()\n",
    "\n",
    "    # Add a legend to distinguish between training and validation loss\n",
    "    ax.legend()\n",
    "    plt.show()"
   ]
  },
  {
   "cell_type": "code",
   "execution_count": 13,
   "metadata": {},
   "outputs": [
    {
     "data": {
      "image/png": "[encoded data removed]",
      "text/plain": [
       "<Figure size 1000x600 with 1 Axes>"
      ]
     },
     "metadata": {},
     "output_type": "display_data"
    }
   ],
   "source": [
    "# Plotting the dense model\n",
    "plot_loss(history)"
   ]
  },
  {
   "cell_type": "markdown",
   "metadata": {},
   "source": [
    "Based on the graph shown above, it's evident that the model performs well on the training data, as indicated by the consistently low loss function, mostly below 0.2, as the number of epochs increases. Meanwhile, the validation set, which serves the purpose of preventing overfitting, demonstrates its lowest loss at 2 epochs, where it reaches a value of 0.21882. Notably, the model weights at this point have been saved in a file named \"dense_model.h5.\""
   ]
  },
  {
   "cell_type": "markdown",
   "metadata": {},
   "source": [
    "### Evaluating the dense model"
   ]
  },
  {
   "cell_type": "code",
   "execution_count": 14,
   "metadata": {},
   "outputs": [
    {
     "name": "stdout",
     "output_type": "stream",
     "text": [
      "16/16 [==============================] - 0s 4ms/step - loss: 0.4759 - accuracy: 0.8077\n",
      "Test Loss: 0.475920170545578\n",
      "Test Accuracy: 0.807692289352417\n"
     ]
    }
   ],
   "source": [
    "# Load the saved model weights\n",
    "dense_model.load_weights(\"dense_model.h5\")\n",
    "\n",
    "# Evaluate the model on the test data\n",
    "test_loss, test_accuracy = dense_model.evaluate(test_reshape, test_labels, batch_size=39)\n",
    "\n",
    "print(\"Test Loss:\", test_loss)\n",
    "print(\"Test Accuracy:\", test_accuracy)"
   ]
  },
  {
   "cell_type": "markdown",
   "metadata": {},
   "source": [
    "When evaluating the model, it demonstrates significant performance with an accuracy of 0.8077, indicating that it is performing well."
   ]
  },
  {
   "cell_type": "markdown",
   "metadata": {},
   "source": [
    "### Using CNNs"
   ]
  },
  {
   "cell_type": "code",
   "execution_count": 16,
   "metadata": {},
   "outputs": [
    {
     "name": "stdout",
     "output_type": "stream",
     "text": [
      "Model: \"sequential_1\"\n",
      "_________________________________________________________________\n",
      " Layer (type)                Output Shape              Param #   \n",
      "=================================================================\n",
      " conv2d (Conv2D)             (None, 62, 62, 64)        1792      \n",
      "                                                                 \n",
      " batch_normalization (Batch  (None, 62, 62, 64)        256       \n",
      " Normalization)                                                  \n",
      "                                                                 \n",
      " max_pooling2d (MaxPooling2  (None, 31, 31, 64)        0         \n",
      " D)                                                              \n",
      "                                                                 \n",
      " conv2d_1 (Conv2D)           (None, 29, 29, 64)        36928     \n",
      "                                                                 \n",
      " max_pooling2d_1 (MaxPoolin  (None, 14, 14, 64)        0         \n",
      " g2D)                                                            \n",
      "                                                                 \n",
      " conv2d_2 (Conv2D)           (None, 12, 12, 32)        18464     \n",
      "                                                                 \n",
      " max_pooling2d_2 (MaxPoolin  (None, 6, 6, 32)          0         \n",
      " g2D)                                                            \n",
      "                                                                 \n",
      " flatten (Flatten)           (None, 1152)              0         \n",
      "                                                                 \n",
      " dense_4 (Dense)             (None, 2)                 2306      \n",
      "                                                                 \n",
      "=================================================================\n",
      "Total params: 59746 (233.38 KB)\n",
      "Trainable params: 59618 (232.88 KB)\n",
      "Non-trainable params: 128 (512.00 Byte)\n",
      "_________________________________________________________________\n"
     ]
    }
   ],
   "source": [
    "# Initialized the cnn model\n",
    "cnn_model = Sequential()\n",
    "\n",
    "# Input Layer\n",
    "cnn_model.add(Conv2D(64, kernel_size=3, activation='relu', input_shape = (64, 64, 3)))\n",
    "cnn_model.add(BatchNormalization())\n",
    "cnn_model.add(MaxPool2D(2))\n",
    "\n",
    "# Hidden Layer\n",
    "cnn_model.add(Conv2D(64, kernel_size=3, activation='relu'))\n",
    "cnn_model.add(MaxPool2D(2))\n",
    "\n",
    "cnn_model.add(Conv2D(32, kernel_size=3, activation='LeakyReLU'))\n",
    "cnn_model.add(MaxPool2D(2))\n",
    "cnn_model.add(Flatten())\n",
    "# Output Layer\n",
    "cnn_model.add(Dense(2, activation='softmax'))\n",
    "\n",
    "cnn_model.summary()"
   ]
  },
  {
   "cell_type": "code",
   "execution_count": 17,
   "metadata": {},
   "outputs": [],
   "source": [
    "# Compile the CNNs model\n",
    "cnn_model.compile(\n",
    "    optimizer = \"adam\",\n",
    "    loss = \"binary_crossentropy\",\n",
    "    metrics = ['accuracy']\n",
    ")\n",
    "\n",
    "# Defining the path for saving checkpoints\n",
    "cnn_filepath = \"cnn_model.h5\"\n",
    "\n",
    "# Create a ModelCheckpoint callback to save the best model weights\n",
    "cnn_modelcheckpoint = ModelCheckpoint(\n",
    "    cnn_filepath,\n",
    "    monitor='val_loss',  \n",
    "    save_best_only=True, \n",
    "    mode='min',  \n",
    "    verbose=1 \n",
    ")"
   ]
  },
  {
   "cell_type": "code",
   "execution_count": 18,
   "metadata": {},
   "outputs": [
    {
     "name": "stdout",
     "output_type": "stream",
     "text": [
      "Epoch 1/1000\n",
      "163/163 [==============================] - ETA: 0s - loss: 0.1846 - accuracy: 0.9314\n",
      "Epoch 1: val_loss improved from inf to 0.75262, saving model to cnn_model.h5\n",
      "163/163 [==============================] - 84s 505ms/step - loss: 0.1846 - accuracy: 0.9314 - val_loss: 0.7526 - val_accuracy: 0.5625\n",
      "Epoch 2/1000\n",
      "163/163 [==============================] - ETA: 0s - loss: 0.0927 - accuracy: 0.9664\n",
      "Epoch 2: val_loss improved from 0.75262 to 0.65226, saving model to cnn_model.h5\n",
      "163/163 [==============================] - 84s 516ms/step - loss: 0.0927 - accuracy: 0.9664 - val_loss: 0.6523 - val_accuracy: 0.5625\n",
      "Epoch 3/1000\n",
      "163/163 [==============================] - ETA: 0s - loss: 0.0746 - accuracy: 0.9726\n",
      "Epoch 3: val_loss did not improve from 0.65226\n",
      "163/163 [==============================] - 84s 515ms/step - loss: 0.0746 - accuracy: 0.9726 - val_loss: 1.7560 - val_accuracy: 0.5625\n",
      "Epoch 4/1000\n",
      "163/163 [==============================] - ETA: 0s - loss: 0.0568 - accuracy: 0.9795\n",
      "Epoch 4: val_loss did not improve from 0.65226\n",
      "163/163 [==============================] - 87s 536ms/step - loss: 0.0568 - accuracy: 0.9795 - val_loss: 2.0700 - val_accuracy: 0.5625\n",
      "Epoch 5/1000\n",
      "163/163 [==============================] - ETA: 0s - loss: 0.0532 - accuracy: 0.9814\n",
      "Epoch 5: val_loss did not improve from 0.65226\n",
      "163/163 [==============================] - 87s 532ms/step - loss: 0.0532 - accuracy: 0.9814 - val_loss: 0.8444 - val_accuracy: 0.6875\n",
      "Epoch 6/1000\n",
      "163/163 [==============================] - ETA: 0s - loss: 0.0422 - accuracy: 0.9856\n",
      "Epoch 6: val_loss improved from 0.65226 to 0.23095, saving model to cnn_model.h5\n",
      "163/163 [==============================] - 86s 526ms/step - loss: 0.0422 - accuracy: 0.9856 - val_loss: 0.2310 - val_accuracy: 0.8750\n",
      "Epoch 7/1000\n",
      "163/163 [==============================] - ETA: 0s - loss: 0.0236 - accuracy: 0.9918\n",
      "Epoch 7: val_loss did not improve from 0.23095\n",
      "163/163 [==============================] - 85s 524ms/step - loss: 0.0236 - accuracy: 0.9918 - val_loss: 1.7206 - val_accuracy: 0.5625\n",
      "Epoch 8/1000\n",
      "163/163 [==============================] - ETA: 0s - loss: 0.0146 - accuracy: 0.9952\n",
      "Epoch 8: val_loss improved from 0.23095 to 0.17038, saving model to cnn_model.h5\n",
      "163/163 [==============================] - 85s 524ms/step - loss: 0.0146 - accuracy: 0.9952 - val_loss: 0.1704 - val_accuracy: 0.9375\n",
      "Epoch 9/1000\n",
      "163/163 [==============================] - ETA: 0s - loss: 0.0101 - accuracy: 0.9973\n",
      "Epoch 9: val_loss improved from 0.17038 to 0.07129, saving model to cnn_model.h5\n",
      "163/163 [==============================] - 85s 521ms/step - loss: 0.0101 - accuracy: 0.9973 - val_loss: 0.0713 - val_accuracy: 1.0000\n",
      "Epoch 10/1000\n",
      "163/163 [==============================] - ETA: 0s - loss: 0.0033 - accuracy: 0.9998\n",
      "Epoch 10: val_loss did not improve from 0.07129\n",
      "163/163 [==============================] - 86s 526ms/step - loss: 0.0033 - accuracy: 0.9998 - val_loss: 0.3511 - val_accuracy: 0.8125\n",
      "Epoch 11/1000\n",
      "163/163 [==============================] - ETA: 0s - loss: 0.0011 - accuracy: 1.0000\n",
      "Epoch 11: val_loss improved from 0.07129 to 0.04101, saving model to cnn_model.h5\n",
      "163/163 [==============================] - 86s 527ms/step - loss: 0.0011 - accuracy: 1.0000 - val_loss: 0.0410 - val_accuracy: 1.0000\n",
      "Epoch 12/1000\n",
      "163/163 [==============================] - ETA: 0s - loss: 4.8863e-04 - accuracy: 1.0000\n",
      "Epoch 12: val_loss did not improve from 0.04101\n",
      "163/163 [==============================] - 84s 516ms/step - loss: 4.8863e-04 - accuracy: 1.0000 - val_loss: 0.2010 - val_accuracy: 0.8750\n",
      "Epoch 13/1000\n",
      "163/163 [==============================] - ETA: 0s - loss: 2.8143e-04 - accuracy: 1.0000\n",
      "Epoch 13: val_loss did not improve from 0.04101\n",
      "163/163 [==============================] - 84s 515ms/step - loss: 2.8143e-04 - accuracy: 1.0000 - val_loss: 0.0931 - val_accuracy: 1.0000\n",
      "Epoch 14/1000\n",
      "163/163 [==============================] - ETA: 0s - loss: 1.8565e-04 - accuracy: 1.0000\n",
      "Epoch 14: val_loss did not improve from 0.04101\n",
      "163/163 [==============================] - 85s 524ms/step - loss: 1.8565e-04 - accuracy: 1.0000 - val_loss: 0.1298 - val_accuracy: 0.9375\n",
      "Epoch 15/1000\n",
      "163/163 [==============================] - ETA: 0s - loss: 1.4201e-04 - accuracy: 1.0000\n",
      "Epoch 15: val_loss did not improve from 0.04101\n",
      "163/163 [==============================] - 87s 534ms/step - loss: 1.4201e-04 - accuracy: 1.0000 - val_loss: 0.1631 - val_accuracy: 0.9375\n"
     ]
    }
   ],
   "source": [
    "cnn_history = cnn_model.fit(\n",
    "    train_images,\n",
    "    train_labels,\n",
    "    epochs=1000,\n",
    "    callbacks=[early_stopping, cnn_modelcheckpoint],\n",
    "    validation_data=(val_images, val_labels),\n",
    "    batch_size=32\n",
    ")"
   ]
  },
  {
   "cell_type": "code",
   "execution_count": null,
   "metadata": {},
   "outputs": [],
   "source": []
  }
 ],
 "metadata": {
  "kernelspec": {
   "display_name": "venv",
   "language": "python",
   "name": "python3"
  },
  "language_info": {
   "codemirror_mode": {
    "name": "ipython",
    "version": 3
   },
   "file_extension": ".py",
   "mimetype": "text/x-python",
   "name": "python",
   "nbconvert_exporter": "python",
   "pygments_lexer": "ipython3",
   "version": "3.10.11"
  },
  "orig_nbformat": 4
 },
 "nbformat": 4,
 "nbformat_minor": 2
}
