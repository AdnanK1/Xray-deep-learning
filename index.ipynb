{
 "cells": [
  {
   "cell_type": "markdown",
   "metadata": {},
   "source": [
    "# Image Classification with Deep Learning"
   ]
  },
  {
   "cell_type": "markdown",
   "metadata": {},
   "source": [
    "## Importing Libraries"
   ]
  },
  {
   "cell_type": "code",
   "execution_count": 7,
   "metadata": {},
   "outputs": [],
   "source": [
    "import pandas as pd\n",
    "import numpy as np\n",
    "from PIL import Image\n",
    "import matplotlib.pyplot as plt\n",
    "from keras.preprocessing.image import ImageDataGenerator\n",
    "\n",
    "from keras.models import Sequential\n",
    "from keras.layers import Dense, Conv2D, Flatten, BatchNormalization, MaxPool2D\n",
    "from keras.callbacks import EarlyStopping, ModelCheckpoint\n",
    "\n",
    "from sklearn.preprocessing import StandardScaler\n",
    "from sklearn.decomposition import PCA\n",
    "\n",
    "import warnings\n",
    "warnings.filterwarnings('ignore')\n",
    "\n",
    "np.random.seed(123)\n",
    "%matplotlib inline"
   ]
  },
  {
   "cell_type": "markdown",
   "metadata": {},
   "source": [
    "## Reading the data"
   ]
  },
  {
   "cell_type": "code",
   "execution_count": 2,
   "metadata": {},
   "outputs": [
    {
     "name": "stdout",
     "output_type": "stream",
     "text": [
      "Found 5216 images belonging to 2 classes.\n",
      "Found 624 images belonging to 2 classes.\n",
      "Found 16 images belonging to 2 classes.\n"
     ]
    }
   ],
   "source": [
    "# Create data generators with rescaling \n",
    "train_generator = ImageDataGenerator(rescale=1./255).flow_from_directory('chest_xray/train/', target_size=(64, 64), batch_size=5216)\n",
    "test_generator = ImageDataGenerator(rescale=1./255).flow_from_directory('chest_xray/test/', target_size=(64, 64), batch_size=624)\n",
    "val_generator = ImageDataGenerator(rescale=1./255).flow_from_directory('chest_xray/val/', target_size=(64, 64))"
   ]
  },
  {
   "cell_type": "code",
   "execution_count": 3,
   "metadata": {},
   "outputs": [],
   "source": [
    "# Retrieve a batch of training images and their corresponding labels\n",
    "train_images, train_labels = next(train_generator)\n",
    "\n",
    "# Retrieve a batch of test images and their corresponding labels\n",
    "test_images, test_labels = next(test_generator)\n",
    "\n",
    "# Retrieve a batch of validation images and their corresponding labels\n",
    "val_images, val_labels = next(val_generator)"
   ]
  },
  {
   "cell_type": "code",
   "execution_count": 4,
   "metadata": {},
   "outputs": [
    {
     "data": {
      "text/plain": [
       "((5216, 64, 64, 3), (5216, 2))"
      ]
     },
     "execution_count": 4,
     "metadata": {},
     "output_type": "execute_result"
    }
   ],
   "source": [
    "# Checking the shape of the train_images and train_labels\n",
    "train_images.shape, train_labels.shape"
   ]
  },
  {
   "cell_type": "code",
   "execution_count": 5,
   "metadata": {},
   "outputs": [
    {
     "data": {
      "text/plain": [
       "((624, 64, 64, 3), (624, 2))"
      ]
     },
     "execution_count": 5,
     "metadata": {},
     "output_type": "execute_result"
    }
   ],
   "source": [
    "# Checking the shape of the test_images and test_labels\n",
    "test_images.shape, test_labels.shape"
   ]
  },
  {
   "cell_type": "code",
   "execution_count": 6,
   "metadata": {},
   "outputs": [
    {
     "data": {
      "text/plain": [
       "((16, 64, 64, 3), (16, 2))"
      ]
     },
     "execution_count": 6,
     "metadata": {},
     "output_type": "execute_result"
    }
   ],
   "source": [
    "# Checking the shape of the val_images and val_labels\n",
    "val_images.shape, val_labels.shape"
   ]
  },
  {
   "cell_type": "markdown",
   "metadata": {},
   "source": [
    "The label's shape indicates that this is a binary classification problem. The labels suggest that the images can only represent two classes: \"normal\" or \"pneumonia,\" which implies that the goal is to determine whether a patient has pneumonia or not."
   ]
  },
  {
   "cell_type": "markdown",
   "metadata": {},
   "source": [
    "## Modeling the Data"
   ]
  },
  {
   "cell_type": "code",
   "execution_count": 10,
   "metadata": {},
   "outputs": [],
   "source": [
    "# Flattening the train set to all for modeling\n",
    "train_reshaped = train_images.reshape(5216, 64*64*3)\n",
    "\n",
    "# Flattening the test set to all for modeling\n",
    "test_reshape = test_images.reshape(624, 64*64*3)\n",
    "\n",
    "# Flattening the validation set to all for modeling\n",
    "val_reshape = val_images.reshape(16, 64*64*3)"
   ]
  },
  {
   "cell_type": "code",
   "execution_count": 11,
   "metadata": {},
   "outputs": [
    {
     "name": "stdout",
     "output_type": "stream",
     "text": [
      "Model: \"sequential\"\n",
      "_________________________________________________________________\n",
      " Layer (type)                Output Shape              Param #   \n",
      "=================================================================\n",
      " dense (Dense)               (None, 64)                786496    \n",
      "                                                                 \n",
      " dense_1 (Dense)             (None, 64)                4160      \n",
      "                                                                 \n",
      " dense_2 (Dense)             (None, 32)                2080      \n",
      "                                                                 \n",
      " dense_3 (Dense)             (None, 2)                 66        \n",
      "                                                                 \n",
      "=================================================================\n",
      "Total params: 792802 (3.02 MB)\n",
      "Trainable params: 792802 (3.02 MB)\n",
      "Non-trainable params: 0 (0.00 Byte)\n",
      "_________________________________________________________________\n"
     ]
    }
   ],
   "source": [
    "# initialized the model\n",
    "dense_model = Sequential()\n",
    "\n",
    "# Input Layer\n",
    "dense_model.add(Dense(64, activation='relu', input_shape=(64*64*3,)))\n",
    "# Hidden Layer\n",
    "dense_model.add(Dense(64, activation=\"relu\"))\n",
    "dense_model.add(Dense(32, activation=\"LeakyReLU\"))\n",
    "# Output Layer\n",
    "dense_model.add(Dense(2, activation=\"softmax\"))\n",
    "\n",
    "dense_model.summary()"
   ]
  },
  {
   "cell_type": "code",
   "execution_count": 12,
   "metadata": {},
   "outputs": [],
   "source": [
    "# Compile the dense neural network model\n",
    "dense_model.compile(\n",
    "    optimizer=\"adam\",\n",
    "    loss= \"binary_crossentropy\",\n",
    "    metrics=['accuracy']\n",
    ")"
   ]
  },
  {
   "cell_type": "code",
   "execution_count": 13,
   "metadata": {},
   "outputs": [],
   "source": [
    "# Creating a EarlyStopping callback to prevent overfitting\n",
    "early_stopping = EarlyStopping(monitor='val_loss', patience=4, mode='min')\n",
    "\n",
    "# Defining the path for saving checkpoints\n",
    "checkpoint_filepath = 'dense_model.h5'\n",
    "\n",
    "# Create a ModelCheckpoint callback to save the best model weights\n",
    "model_checkpoint = ModelCheckpoint(\n",
    "    checkpoint_filepath,\n",
    "    monitor='val_loss',  \n",
    "    save_best_only=True, \n",
    "    mode='min',  \n",
    "    verbose=1  \n",
    ")"
   ]
  },
  {
   "cell_type": "code",
   "execution_count": 14,
   "metadata": {},
   "outputs": [
    {
     "name": "stdout",
     "output_type": "stream",
     "text": [
      "Epoch 1/1000\n",
      "161/163 [============================>.] - ETA: 0s - loss: 0.2844 - accuracy: 0.8857\n",
      "Epoch 1: val_loss improved from inf to 0.33863, saving model to dense_model.h5\n",
      "163/163 [==============================] - 6s 25ms/step - loss: 0.2838 - accuracy: 0.8863 - val_loss: 0.3386 - val_accuracy: 0.9375\n",
      "Epoch 2/1000\n",
      "163/163 [==============================] - ETA: 0s - loss: 0.1631 - accuracy: 0.9402\n",
      "Epoch 2: val_loss did not improve from 0.33863\n",
      "163/163 [==============================] - 4s 24ms/step - loss: 0.1631 - accuracy: 0.9402 - val_loss: 1.2448 - val_accuracy: 0.5625\n",
      "Epoch 3/1000\n",
      "163/163 [==============================] - ETA: 0s - loss: 0.1621 - accuracy: 0.9413\n",
      "Epoch 3: val_loss did not improve from 0.33863\n",
      "163/163 [==============================] - 4s 25ms/step - loss: 0.1621 - accuracy: 0.9413 - val_loss: 0.3956 - val_accuracy: 0.8125\n",
      "Epoch 4/1000\n",
      "163/163 [==============================] - ETA: 0s - loss: 0.1477 - accuracy: 0.9457\n",
      "Epoch 4: val_loss improved from 0.33863 to 0.30027, saving model to dense_model.h5\n",
      "163/163 [==============================] - 4s 27ms/step - loss: 0.1477 - accuracy: 0.9457 - val_loss: 0.3003 - val_accuracy: 0.9375\n",
      "Epoch 5/1000\n",
      "161/163 [============================>.] - ETA: 0s - loss: 0.1373 - accuracy: 0.9499\n",
      "Epoch 5: val_loss did not improve from 0.30027\n",
      "163/163 [==============================] - 4s 25ms/step - loss: 0.1367 - accuracy: 0.9498 - val_loss: 0.9671 - val_accuracy: 0.6250\n",
      "Epoch 6/1000\n",
      "162/163 [============================>.] - ETA: 0s - loss: 0.1225 - accuracy: 0.9529\n",
      "Epoch 6: val_loss improved from 0.30027 to 0.26977, saving model to dense_model.h5\n",
      "163/163 [==============================] - 4s 25ms/step - loss: 0.1226 - accuracy: 0.9528 - val_loss: 0.2698 - val_accuracy: 0.9375\n",
      "Epoch 7/1000\n",
      "163/163 [==============================] - ETA: 0s - loss: 0.1111 - accuracy: 0.9580\n",
      "Epoch 7: val_loss did not improve from 0.26977\n",
      "163/163 [==============================] - 4s 28ms/step - loss: 0.1111 - accuracy: 0.9580 - val_loss: 0.5222 - val_accuracy: 0.7500\n",
      "Epoch 8/1000\n",
      "162/163 [============================>.] - ETA: 0s - loss: 0.1085 - accuracy: 0.9566\n",
      "Epoch 8: val_loss improved from 0.26977 to 0.25520, saving model to dense_model.h5\n",
      "163/163 [==============================] - 4s 25ms/step - loss: 0.1081 - accuracy: 0.9569 - val_loss: 0.2552 - val_accuracy: 0.9375\n",
      "Epoch 9/1000\n",
      "163/163 [==============================] - ETA: 0s - loss: 0.1176 - accuracy: 0.9559\n",
      "Epoch 9: val_loss improved from 0.25520 to 0.19994, saving model to dense_model.h5\n",
      "163/163 [==============================] - 4s 25ms/step - loss: 0.1176 - accuracy: 0.9559 - val_loss: 0.1999 - val_accuracy: 0.9375\n",
      "Epoch 10/1000\n",
      "161/163 [============================>.] - ETA: 0s - loss: 0.1227 - accuracy: 0.9528\n",
      "Epoch 10: val_loss did not improve from 0.19994\n",
      "163/163 [==============================] - 4s 26ms/step - loss: 0.1217 - accuracy: 0.9532 - val_loss: 0.4007 - val_accuracy: 0.8750\n",
      "Epoch 11/1000\n",
      "163/163 [==============================] - ETA: 0s - loss: 0.1118 - accuracy: 0.9569\n",
      "Epoch 11: val_loss did not improve from 0.19994\n",
      "163/163 [==============================] - 4s 24ms/step - loss: 0.1118 - accuracy: 0.9569 - val_loss: 0.4762 - val_accuracy: 0.8125\n",
      "Epoch 12/1000\n",
      "161/163 [============================>.] - ETA: 0s - loss: 0.1071 - accuracy: 0.9598\n",
      "Epoch 12: val_loss did not improve from 0.19994\n",
      "163/163 [==============================] - 4s 25ms/step - loss: 0.1076 - accuracy: 0.9595 - val_loss: 0.2541 - val_accuracy: 0.9375\n",
      "Epoch 13/1000\n",
      "163/163 [==============================] - ETA: 0s - loss: 0.0972 - accuracy: 0.9620\n",
      "Epoch 13: val_loss did not improve from 0.19994\n",
      "163/163 [==============================] - 4s 25ms/step - loss: 0.0972 - accuracy: 0.9620 - val_loss: 0.2479 - val_accuracy: 0.9375\n"
     ]
    }
   ],
   "source": [
    "history = dense_model.fit(\n",
    "    train_reshaped,\n",
    "    train_labels,\n",
    "    epochs=1000,\n",
    "    callbacks=[early_stopping, model_checkpoint],\n",
    "    validation_data=(val_reshape, val_labels),\n",
    "    batch_size=32\n",
    ")"
   ]
  },
  {
   "cell_type": "code",
   "execution_count": null,
   "metadata": {},
   "outputs": [],
   "source": []
  }
 ],
 "metadata": {
  "kernelspec": {
   "display_name": "venv",
   "language": "python",
   "name": "python3"
  },
  "language_info": {
   "codemirror_mode": {
    "name": "ipython",
    "version": 3
   },
   "file_extension": ".py",
   "mimetype": "text/x-python",
   "name": "python",
   "nbconvert_exporter": "python",
   "pygments_lexer": "ipython3",
   "version": "3.10.11"
  },
  "orig_nbformat": 4
 },
 "nbformat": 4,
 "nbformat_minor": 2
}
